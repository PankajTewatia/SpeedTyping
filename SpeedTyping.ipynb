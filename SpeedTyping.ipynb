{
 "cells": [
  {
   "cell_type": "code",
   "execution_count": 47,
   "metadata": {},
   "outputs": [],
   "source": [
    "# Importing important libraries\n",
    "import random\n",
    "import time\n",
    "import os\n",
    "import json\n"
   ]
  },
  {
   "cell_type": "code",
   "execution_count": 48,
   "metadata": {},
   "outputs": [],
   "source": [
    "# Function to display a new word\n",
    "def New_Word(score,h_score):\n",
    "    # Choosing a word randomly from the random_words list\n",
    "    word = random.choice(random_words)\n",
    "    print(f\"Your new word is {word}\")\n",
    "\n",
    "    # Initial time\n",
    "    initial=time.time()\n",
    "    # Taking word from user\n",
    "    user=input(\"Type now \")\n",
    "    # Final time\n",
    "    final = time.time()\n",
    "    # Time taken to type a word\n",
    "    time_taken = final - initial\n",
    "\n",
    "    print(f\"\\nTime taken to type {word} is {time_taken} seconds\")\n",
    "    # Scoring pattern if word is correct\n",
    "    if word==user:\n",
    "        print(\"Correct!\")\n",
    "        if time_taken < 2:\n",
    "            score = score + 2\n",
    "            print(f\"You scored 2 points and your total score is {score}\\n\")\n",
    "    \n",
    "        elif 2 < time_taken < 3:\n",
    "            score = score + 1\n",
    "            print(f\"You scored 1 points and your total score is {score}\\n\")\n",
    "            \n",
    "        elif time_taken > 3:\n",
    "            print(f\"You scored 0 points and your total score is {score}\\n\")\n",
    "    #Score given for wrong word\n",
    "    else:\n",
    "        print(\"Wrong!\")\n",
    "        score = score - 1\n",
    "        print(f\"You scored -1 points and your total score is {score}\\n\")\n",
    "    \n",
    "    if h_score < score:\n",
    "        h_score = score\n",
    "    sc = str(score) + \",\" + str(h_score)\n",
    "    jt = json.dumps(sc)                \n",
    "    ft = open(\"sc.txt\", 'w')\n",
    "    ft.write(jt)\n",
    "    ft.close()\n",
    "    return score,h_score\n"
   ]
  },
  {
   "cell_type": "code",
   "execution_count": 49,
   "metadata": {},
   "outputs": [],
   "source": [
    "# Function to display the score\n",
    "def Score():\n",
    "    print(f\"Total Score: {score}\\n\")"
   ]
  },
  {
   "cell_type": "code",
   "execution_count": 50,
   "metadata": {},
   "outputs": [],
   "source": [
    "# Function to display high score\n",
    "def High_Score():\n",
    "    print(f\"High Score: {h_score}\\n\")"
   ]
  },
  {
   "cell_type": "code",
   "execution_count": 51,
   "metadata": {},
   "outputs": [
    {
     "name": "stdout",
     "output_type": "stream",
     "text": [
      "\t\t\t Test your typing speed\n",
      "1.New Word 2.Score 3.HighScore 4.Save & Quit\n",
      "Player input is 4\n",
      "Saving score and exiting the application\n",
      "\n"
     ]
    }
   ],
   "source": [
    "print(\"\\t\\t\\t Test your typing speed\")\n",
    "\n",
    "file_path = \"sc.txt\"\n",
    "\n",
    "\n",
    "if os.path.exists('sc.txt'):\n",
    "    if os.stat(file_path).st_size == 0:\n",
    "        # creating score variable\n",
    "        score = 0\n",
    "        h_score = 0\n",
    "    else:\n",
    "        fd = open(\"sc.txt\", \"r\")\n",
    "        js = fd.read()\n",
    "        fd.close()\n",
    "        sc = json.loads(js)\n",
    "        sc = sc.split(\",\")\n",
    "        score = int(sc[0])\n",
    "        h_score = int(sc[1])\n",
    "else:\n",
    "    # creating score variable\n",
    "    score = 0\n",
    "    h_score = 0\n",
    "\n",
    "\n",
    "\n",
    "# List of random words\n",
    "random_words=[\"Across\",\"Closer\",\"Driver\",\"Friend\",\"Mining\",\"Prison\",\"Pankaj\",\"Return\",\"Sixpep\"]\n",
    "# Creating an infinite loop\n",
    "while True:\n",
    "    print(\"1.New Word 2.Score 3.HighScore 4.Save & Quit\")\n",
    "    try:\n",
    "        choice=int(input(\"Player input is \"))\n",
    "    except Exception as e:\n",
    "        print(\"Choose a valid option!\\n\")\n",
    "        continue\n",
    "    # To choose option 1 to display a new word\n",
    "    if choice==1:\n",
    "        score,h_score = New_Word(score,h_score)\n",
    "        \n",
    "    # To choose option 2 to display the score\n",
    "    elif choice==2:\n",
    "        print(f\"Total Score: {score}\\n\")\n",
    "    # To choose option 3 to display high score\n",
    "    elif choice==3:\n",
    "        print(f\"High Score: {h_score}\\n\")\n",
    "    # To choose option 4 to save any changes\n",
    "    elif choice==4:\n",
    "        print(\"Saving score and exiting the application\\n\")\n",
    "        break\n",
    "    # If any other option is selected\n",
    "    else:\n",
    "        print(\"Enter a valid option!\\n\")"
   ]
  },
  {
   "cell_type": "code",
   "execution_count": null,
   "metadata": {},
   "outputs": [],
   "source": []
  }
 ],
 "metadata": {
  "kernelspec": {
   "display_name": "Python 3",
   "language": "python",
   "name": "python3"
  },
  "language_info": {
   "codemirror_mode": {
    "name": "ipython",
    "version": 3
   },
   "file_extension": ".py",
   "mimetype": "text/x-python",
   "name": "python",
   "nbconvert_exporter": "python",
   "pygments_lexer": "ipython3",
   "version": "3.8.3"
  }
 },
 "nbformat": 4,
 "nbformat_minor": 4
}
